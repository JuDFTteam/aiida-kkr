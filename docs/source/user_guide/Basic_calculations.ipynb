{
 "cells": [
  {
   "cell_type": "markdown",
   "metadata": {},
   "source": [
    "# **Calculations**"
   ]
  },
  {
   "cell_type": "markdown",
   "metadata": {},
   "source": [
    "Here the calculations of the aiida-kkr plugin are presented. It is assumed that the user already has basic knowledge of ``python``, ``aiida`` (e.g. database structure, verdi commands, structure nodes) and KKR (e.g. LMAX cutoff, energy contour integration). Also ``aiida-kkr`` should be installed as well as the Voronoi, KKR and KKRimp codes should already be configured. Details about istallation, configuration and the most common issues that cause KKR codes are presented in the corresponding section."
   ]
  },
  {
   "cell_type": "markdown",
   "metadata": {},
   "source": [
    "## **Basic caluclations**"
   ]
  },
  {
   "cell_type": "markdown",
   "metadata": {},
   "source": [
    "Here presented basic calculations, using `aiida-kkr` plugin, at the example of the bulk Cu. In practice, the use of the workflows is more convenient, which is presented in the corresponding section."
   ]
  },
  {
   "cell_type": "markdown",
   "metadata": {},
   "source": [
    "In the beggining, make sure, that `aiida` is installed, profile is configured correctly, and you are activated virtual environment. Detailed step-by-step explanation is provided in the following [AiiDA installation guide](https://aiida.readthedocs.io/projects/aiida-core/en/latest/install/installation.html)."
   ]
  },
  {
   "cell_type": "markdown",
   "metadata": {},
   "source": [
    "Then, we need to load database settings and allow AiiDA to reach our database. This can be done by executing command below:"
   ]
  },
  {
   "cell_type": "code",
   "execution_count": null,
   "metadata": {},
   "outputs": [],
   "source": [
    "from aiida import load_profile\n",
    "load_profile()"
   ]
  },
  {
   "cell_type": "markdown",
   "metadata": {},
   "source": [
    "### **Voronoi starting potential generator**"
   ]
  },
  {
   "cell_type": "markdown",
   "metadata": {},
   "source": [
    "The Voronoi code creates starting potentials for a KKR calculation and sets up the atom-centered division of space into voronoi cells. Also corresponding shape functions are created, which are needed for full-potential corrections."
   ]
  },
  {
   "cell_type": "markdown",
   "metadata": {},
   "source": [
    "The voronoi plugin is called ``kkr.voro`` and it has the following input and output nodes:\n",
    "\n",
    "#### **Input nodes:**\n",
    "- ``parameters`` - KKR parameter set for Voronoi calculation (Dict)\n",
    "- ``structure`` - structure data node, which describing the crystal lattice (StructureData)\n",
    "- ``code`` - Voronoi code node\n",
    "\n",
    "#### **Output nodes:**\n",
    "- ``remote_folder`` - ...\n",
    "- ``retrieved`` - ...\n",
    "- ``output_parameters`` - ...\n",
    "\n",
    "#### **Additional optional input nodes that trigger special behavior of a Voronoi calculations:**\n",
    "- `parent_KKR` - ...\n",
    "- `potential_overwrite` - ..."
   ]
  },
  {
   "cell_type": "markdown",
   "metadata": {},
   "source": [
    "Now the basic usage of the voronoi plugin is demonstrated."
   ]
  },
  {
   "cell_type": "markdown",
   "metadata": {},
   "source": [
    "First, we create an aiida structure by getting aiida ``StructureData`` class:"
   ]
  },
  {
   "cell_type": "code",
   "execution_count": null,
   "metadata": {},
   "outputs": [],
   "source": [
    "from aiida.plugins import DataFactory\n",
    "StructureData = DataFactory('structure')"
   ]
  },
  {
   "cell_type": "markdown",
   "metadata": {},
   "source": [
    "Then we create the aiida ``StructureData`` node for bulk Cu.\n",
    "Defining lattice constant in Angstroem:"
   ]
  },
  {
   "cell_type": "code",
   "execution_count": 1,
   "metadata": {},
   "outputs": [],
   "source": [
    "alat = 3.61"
   ]
  },
  {
   "cell_type": "markdown",
   "metadata": {},
   "source": [
    "Defining Bravais matrix in Ang. units in the following form:"
   ]
  },
  {
   "cell_type": "code",
   "execution_count": 2,
   "metadata": {},
   "outputs": [],
   "source": [
    "from numpy import array\n",
    "bravais = alat*array([[0.5, 0.5, 0], [0.5, 0, 0.5], [0, 0.5, 0.5]])"
   ]
  },
  {
   "cell_type": "markdown",
   "metadata": {},
   "source": [
    "Now create StructureData instance and set Bravais matrix and atom position in the unit cell:"
   ]
  },
  {
   "cell_type": "code",
   "execution_count": null,
   "metadata": {},
   "outputs": [],
   "source": [
    "Cu = StructureData(cell=bravais)\n",
    "Cu.append_atom(position=[0,0,0], symbols='Cu')"
   ]
  },
  {
   "cell_type": "markdown",
   "metadata": {},
   "source": [
    "Next we create an empty set of KKR parameters(LMAX cutoff etc.) for voronoi code. For doing this we load ``kkrparms`` class in order ro create the set of input parameters for KKR calculations. To find out, which parameters are mandatory to be set use: \n",
    "\n",
    "``missing_params = params.get_missing_keys(use_aiida=True)``"
   ]
  },
  {
   "cell_type": "code",
   "execution_count": null,
   "metadata": {},
   "outputs": [],
   "source": [
    "from masci_tools.io.kkr_params import kkrparams\n",
    "params = kkrparams(params_type='voronoi')"
   ]
  },
  {
   "cell_type": "markdown",
   "metadata": {},
   "source": [
    "And set at least the mandatory parameters:"
   ]
  },
  {
   "cell_type": "code",
   "execution_count": null,
   "metadata": {},
   "outputs": [],
   "source": [
    "params.set_multiple_values(LMAX=2, NSPIN=1, RCLUSTZ=2.3)"
   ]
  },
  {
   "cell_type": "markdown",
   "metadata": {},
   "source": [
    "Then we create an aiida Dict node and fill the dictionary of the parameters:"
   ]
  },
  {
   "cell_type": "code",
   "execution_count": null,
   "metadata": {},
   "outputs": [],
   "source": [
    "Dict = DataFactory('dict')\n",
    "ParaNode = Dict(dict=params.get_dict())"
   ]
  },
  {
   "cell_type": "markdown",
   "metadata": {},
   "source": [
    "Now we get the voronoi code. Details about installation of the KKR codes are presented in the [Link](https://iffgit.fz-juelich.de/kkr/jukkr) in the ``ReadMe`` file.\n",
    "\n",
    "First of all, load aiida ``Code`` class:"
   ]
  },
  {
   "cell_type": "code",
   "execution_count": null,
   "metadata": {},
   "outputs": [],
   "source": [
    "from aiida.orm import Code"
   ]
  },
  {
   "cell_type": "markdown",
   "metadata": {},
   "source": [
    "Then initialize string - the name of the code, where ``code_name`` - is the name of the code in aiida database, and ``computer`` - is the name of the computer, on which codes are set up. Details about configuring computer and setting up codes can be found in the [Aiida documentation](https://aiida.readthedocs.io/projects/aiida-core/en/latest/verdi/verdi_user_guide.html#verdi-code)"
   ]
  },
  {
   "cell_type": "code",
   "execution_count": 3,
   "metadata": {},
   "outputs": [],
   "source": [
    "codename = 'code_name@computer'\n",
    "code = Code.get_from_string(codename)"
   ]
  },
  {
   "cell_type": "markdown",
   "metadata": {},
   "source": [
    "Now create new process builder for a Voronoi calculation:"
   ]
  },
  {
   "cell_type": "code",
   "execution_count": null,
   "metadata": {},
   "outputs": [],
   "source": [
    "builder = code.get_builder()"
   ]
  },
  {
   "cell_type": "markdown",
   "metadata": {},
   "source": [
    "and set resources that will be used (here serial job) in the options dict of the metadata:"
   ]
  },
  {
   "cell_type": "code",
   "execution_count": null,
   "metadata": {},
   "outputs": [],
   "source": [
    "builder.metadata.options = {'resources': {'num_machines':1, 'tot_num_mpiprocs':1} }"
   ]
  },
  {
   "cell_type": "markdown",
   "metadata": {},
   "source": [
    "Then set structure and input parameter:"
   ]
  },
  {
   "cell_type": "code",
   "execution_count": null,
   "metadata": {},
   "outputs": [],
   "source": [
    "builder.structure = Cu\n",
    "builder.parameters = ParaNode"
   ]
  },
  {
   "cell_type": "markdown",
   "metadata": {},
   "source": [
    "Now we are ready to submit the calculation:"
   ]
  },
  {
   "cell_type": "code",
   "execution_count": null,
   "metadata": {},
   "outputs": [],
   "source": [
    "from aiida.engine import submit\n",
    "voro_calc = submit(builder)"
   ]
  },
  {
   "cell_type": "markdown",
   "metadata": {},
   "source": [
    "You can also use ``run()`` method for starting the process without sending it to daemon.\n"
   ]
  },
  {
   "cell_type": "code",
   "execution_count": null,
   "metadata": {},
   "outputs": [],
   "source": [
    "from aiida.engine import run\n",
    "voro_calc = run(builder)"
   ]
  },
  {
   "cell_type": "markdown",
   "metadata": {},
   "source": [
    "### **KKR calculation for bulk and interfaces**"
   ]
  },
  {
   "cell_type": "markdown",
   "metadata": {},
   "source": [
    "A KKR calculation is provided by the ``kkr.kkr`` plugin, which has the following input and output nodes.\n",
    "\n",
    "#### **Three input nodes:**\n",
    "* ``parameters`` -  KKR parameter fitting the requirements for a KKR calculation (Dict)\n",
    "* ``parent_folder`` - parent calulation remote folder node (RemoteFolder)\n",
    "* ``code`` - KKR code node (code)\n",
    "\n",
    "#### **Three output nodes:**\n",
    "- ``remote_folder`` - ...(RemoteData)\n",
    "- ``retrieved`` - ..(FolderData)\n",
    "- ``output_parameters`` - (Dict)\n",
    "\n",
    "#### **Special features exist where a fourth input node is persent and which triggers special behavior of the KKR calculation:**\n",
    "* ``impurity_info`` - Node specifying the impurity cluster (Dict)\n",
    "* ``kpoints`` -  Node specifying the kpoints for which the bandstructure is supposed to be calculated (KpointsData)\n",
    "The different possible modes to run a kkr calculation (start from Voronoi calculation, continue from previous KKR calculation, host Greenfunction writeout feature) are demonstrated in the following."
   ]
  },
  {
   "cell_type": "markdown",
   "metadata": {},
   "source": [
    "### **KKR calculation from voronoi parent**"
   ]
  },
  {
   "cell_type": "markdown",
   "metadata": {},
   "source": [
    "First of all, we reuse settings from previous voronoi calculation:"
   ]
  },
  {
   "cell_type": "code",
   "execution_count": null,
   "metadata": {},
   "outputs": [],
   "source": [
    "voronoi_calc_folder = voro_calc.outputs.remote_folder\n",
    "voro_params = voro_calc.inputs.parameters"
   ]
  },
  {
   "cell_type": "markdown",
   "metadata": {},
   "source": [
    "This can be done both in the script as it is shown above and by downloading node from previous voronoi calculation, as it is written below:"
   ]
  },
  {
   "cell_type": "code",
   "execution_count": null,
   "metadata": {},
   "outputs": [],
   "source": [
    "from aiida.orm import load_node\n",
    "node = load_node(<pk>)\n",
    "voronoi_calc_folder = node.outputs.remote_folder\n",
    "voro_params = node.inputs.parameters"
   ]
  },
  {
   "cell_type": "markdown",
   "metadata": {},
   "source": [
    "Inside the brackets ``<pk>`` is the id of the node of previous voronoi calculation. But keep in mind, that if you are loading node from the previous calculation, your calculation results and input data will contain in database only if you use ``submit()`` method for runninig the code."
   ]
  },
  {
   "cell_type": "markdown",
   "metadata": {},
   "source": [
    "Now we update the KKR parameter set to meet the requirements for a KKR calculation (slightly different than voronoi calculation). Thus, we create a new set of parameters for a KKR calculation and fill the already set values from the previous voronoin calculation:"
   ]
  },
  {
   "cell_type": "markdown",
   "metadata": {},
   "source": [
    "New KKR parameters can be set as:"
   ]
  },
  {
   "cell_type": "code",
   "execution_count": null,
   "metadata": {},
   "outputs": [],
   "source": [
    "from masci_tools.io.kkr_params import kkrparams\n",
    "params = kkrparams(params_type='kkr', **voro_params.get_dict())"
   ]
  },
  {
   "cell_type": "markdown",
   "metadata": {},
   "source": [
    "Setting the missing values:"
   ]
  },
  {
   "cell_type": "code",
   "execution_count": null,
   "metadata": {},
   "outputs": [],
   "source": [
    "params.set_multiple_values(RMAX=7., GMAX=65.)"
   ]
  },
  {
   "cell_type": "markdown",
   "metadata": {},
   "source": [
    "Choosing 20 simple mixing iterations first to preconverge potential (here 5% simple mixing):"
   ]
  },
  {
   "cell_type": "code",
   "execution_count": null,
   "metadata": {},
   "outputs": [],
   "source": [
    "params.set_multiple_values(NSTEPS=20, IMIX=0, STRMIX=0.05)"
   ]
  },
  {
   "cell_type": "markdown",
   "metadata": {},
   "source": [
    "And creating aiida dictionary (Dict) node from the KKR parameters:"
   ]
  },
  {
   "cell_type": "code",
   "execution_count": null,
   "metadata": {},
   "outputs": [],
   "source": [
    "ParaNode = Dict(dict=params.get_dict())"
   ]
  },
  {
   "cell_type": "markdown",
   "metadata": {},
   "source": [
    "Now we are getting the KKR code and create new calculation instance and set the input nodes accordingly:"
   ]
  },
  {
   "cell_type": "code",
   "execution_count": null,
   "metadata": {},
   "outputs": [],
   "source": [
    "code = Code.get_from_string('code_name@computer')\n",
    "builder = code.get_builder()\n",
    "builder.parameters = ParaNode\n",
    "builder.parent_folder = voronoi_calc_folder\n",
    "builder.metadata.options = {'resources' :{'num_machines': 1, 'num_mpiprocs_per_machine':1}}"
   ]
  },
  {
   "cell_type": "markdown",
   "metadata": {},
   "source": [
    "And we are run the KKR calculation using ``submit()`` method for keeping the calculation results in database:"
   ]
  },
  {
   "cell_type": "code",
   "execution_count": null,
   "metadata": {},
   "outputs": [],
   "source": [
    "kkr_calc = submit(builder)"
   ]
  },
  {
   "cell_type": "markdown",
   "metadata": {},
   "source": [
    "Or just running it in the terminal:"
   ]
  },
  {
   "cell_type": "code",
   "execution_count": null,
   "metadata": {},
   "outputs": [],
   "source": [
    "kkr_calc = run(builder)"
   ]
  },
  {
   "cell_type": "markdown",
   "metadata": {},
   "source": [
    "### **Continue KKR calculation from KKR parent calculation**\n",
    "\n",
    "First we reuse setting from the previous preconverged KKR calculation:"
   ]
  },
  {
   "cell_type": "code",
   "execution_count": null,
   "metadata": {},
   "outputs": [],
   "source": [
    "kkr_calc_parent_folder = kkr_calc.outputs.remote_folder\n",
    "kkr_params = kkr_calc.inputs.parameters"
   ]
  },
  {
   "cell_type": "markdown",
   "metadata": {},
   "source": [
    "Or if you submited your calculation to the daemon, it is necessary to laod the node of the previous kkr calculation:"
   ]
  },
  {
   "cell_type": "code",
   "execution_count": null,
   "metadata": {},
   "outputs": [],
   "source": [
    "node = load_node(<pk>)\n",
    "kkr_calc_parent_folder = node.outputs.remote_folder\n",
    "kkr_params = node.inputs.parameters"
   ]
  },
  {
   "cell_type": "markdown",
   "metadata": {},
   "source": [
    "Where ``<pk>`` is the id of the previous calculation.\n",
    "\n",
    "Then we are  reusing the old KKR parameters and update scf settings (default is NSTEP=1,IMIX=0)"
   ]
  },
  {
   "cell_type": "code",
   "execution_count": null,
   "metadata": {},
   "outputs": [],
   "source": [
    "params = kkrparams(params_type='kkr', **kkr_params.get_dict())\n",
    "params.set_multiple_values(NSTEPS=50, IMIX=5)"
   ]
  },
  {
   "cell_type": "markdown",
   "metadata": {},
   "source": [
    "Now we are getting the KKR code and create new calculation:"
   ]
  },
  {
   "cell_type": "code",
   "execution_count": null,
   "metadata": {},
   "outputs": [],
   "source": [
    "code = Code.get_from_string('code_name@computer')\n",
    "builder = code.get_builder()"
   ]
  },
  {
   "cell_type": "markdown",
   "metadata": {},
   "source": [
    "Then we are creating the aiida Dict node and setting the input nodes for calculation:"
   ]
  },
  {
   "cell_type": "code",
   "execution_count": null,
   "metadata": {},
   "outputs": [],
   "source": [
    "ParaNode = Dict(dict=params.get_dict())\n",
    "builder.parameters = ParaNode\n",
    "builder.parent_folder = kkr_calc_parent_folder\n",
    "builder.metadata.options = {'resources': {'num_machines': 1, 'num_mpiprocs_per_machine':1}}"
   ]
  },
  {
   "cell_type": "markdown",
   "metadata": {},
   "source": [
    "And running the calculation with updated set of parameters:"
   ]
  },
  {
   "cell_type": "code",
   "execution_count": null,
   "metadata": {},
   "outputs": [],
   "source": [
    "kkr_calc_continued = run(builder)"
   ]
  },
  {
   "cell_type": "markdown",
   "metadata": {},
   "source": [
    "### **Density of states**"
   ]
  },
  {
   "cell_type": "markdown",
   "metadata": {},
   "source": [
    "Here is presented the density of states calculation using workflow ``kkr_dos_wc``, which automatically sets the right parameters in the input of a KKR calculation to perform a DOS calculation. The specifics of the DOS energy contour are set via the ``wf_parameters`` input node which contains default values if no user input is given\n",
    "\n",
    "#### **Input nodes:**\n",
    "- ``kkr`` - KKrcode using the ``kkr.kkr`` plugin (aiida.orm.Code)\n",
    "- ``remote_data`` - The remote folder of the (converged) calculation whose output potential is used as input for the DOS run (RemoteData)\n",
    "- ``wf_parameters`` - Some settings of the workflow behavior (e.g. number of energy points in DOS contour etc.) (ParameterData, optional)\n",
    "- ``options`` - Some settings for the computer you want to use (e.g. queue_name, use_mpi, resources, …) (ParameterData, optional)\n",
    "- ``label`` - Label of the workflow (str, optional)\n",
    "- ``description`` - Longer description of the workflow (str, optional)\n",
    "\n",
    "#### **Returns nodes:**\n",
    "- ``dos_data`` - The DOS data on the DOS energy contour (i.e. at some finite temperature) (XyData)\n",
    "- ``dos_data_interpol`` - The interpolated DOS from the line parallel to the real axis down onto the real axis (XyData)\n",
    "- ``results_wf``  - The output node of the workflow containing some information on the DOS run (ParameterData)"
   ]
  },
  {
   "cell_type": "markdown",
   "metadata": {},
   "source": [
    "We are starting from getting an installed KKRcode:"
   ]
  },
  {
   "cell_type": "code",
   "execution_count": null,
   "metadata": {},
   "outputs": [],
   "source": [
    "from aiida.orm import Code\n",
    "kkrcode = Code.get_from_string('code_name@computer')"
   ]
  },
  {
   "cell_type": "markdown",
   "metadata": {},
   "source": [
    "Now we are loading the remote folder node from the converged KKR calculation from which which we want to start the following DOS calculation:"
   ]
  },
  {
   "cell_type": "code",
   "execution_count": null,
   "metadata": {},
   "outputs": [],
   "source": [
    "from aiida.orm import load_node\n",
    "kkr_remote_folder = load_node(160).outputs.remote_folder"
   ]
  },
  {
   "cell_type": "markdown",
   "metadata": {},
   "source": [
    "Then we are setting of the workflow parameters and the calculation options:"
   ]
  },
  {
   "cell_type": "code",
   "execution_count": null,
   "metadata": {},
   "outputs": [],
   "source": [
    "from aiida.plugins import DataFactory\n",
    "ParameterData = DataFactory('dict')\n",
    "workflow_settings = ParameterData(dict={'dos_params':{'emax': 1, 'tempr': 200, 'emin': -1,\n",
    "                                                      'kmesh': [20, 20, 20], 'nepts': 81}})\n",
    "calc_options = ParameterData(dict={'resources': {'num_machines': 1,\\\n",
    "                                                 'num_mpiprocs_per_machine':1}})"
   ]
  },
  {
   "cell_type": "markdown",
   "metadata": {},
   "source": [
    "??? something about this step??? ...."
   ]
  },
  {
   "cell_type": "code",
   "execution_count": null,
   "metadata": {},
   "outputs": [],
   "source": [
    "inputs = {\n",
    "    'kkr': kkrcode,\n",
    "    'remote_data': kkr_remote_folder,\n",
    "    'wf_parameters': workflow_settings,\n",
    "    'options': calc_options,\n",
    "}"
   ]
  },
  {
   "cell_type": "markdown",
   "metadata": {},
   "source": [
    "And running the DOS calculation:"
   ]
  },
  {
   "cell_type": "code",
   "execution_count": null,
   "metadata": {},
   "outputs": [],
   "source": [
    "run(kkr_dos_wc, **inputs)"
   ]
  }
 ],
 "metadata": {
  "kernelspec": {
   "display_name": "Python 3",
   "language": "python",
   "name": "python3"
  },
  "language_info": {
   "codemirror_mode": {
    "name": "ipython",
    "version": 2
   },
   "file_extension": ".py",
   "mimetype": "text/x-python",
   "name": "python",
   "nbconvert_exporter": "python",
   "pygments_lexer": "ipython2",
   "version": "2.7.17"
  }
 },
 "nbformat": 4,
 "nbformat_minor": 2
}
