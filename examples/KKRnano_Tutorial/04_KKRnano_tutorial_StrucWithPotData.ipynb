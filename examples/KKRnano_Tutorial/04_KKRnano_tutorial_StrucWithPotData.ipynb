{
 "cells": [
  {
   "cell_type": "markdown",
   "id": "67cea0f8-c1bd-43a3-89f0-783d63164989",
   "metadata": {
    "tags": []
   },
   "source": [
    "# KKRnano Tutorial\n",
    "\n",
    "\n",
    "### Overview\n",
    "\n",
    "* [Part 0: basic introduction to KKRnano](00_KKRnano_tutorial_basics.ipynb)\n",
    "* [Part 1: starting KKRnano from Voronoi](01_KKRnano_tutorial_simple_calculation.ipynb)\n",
    "* [Part 2: continuing KKRnano calculations](02_KKRnano_tutorial_continue_calculations.ipynb)\n",
    "* [Part 3: use a KKRnano workflow](03_KKRnano_tutorial_DOSworkchain.ipynb)\n",
    "* [Part 4: StrucWithPotData](04_KKRnano_tutorial_StrucWithPotData.ipynb)\n",
    "\n",
    "## Part 4: use the StrucWithPotData input"
   ]
  },
  {
   "cell_type": "code",
   "execution_count": null,
   "id": "b00999d8-1258-4a18-919a-e2cc3e1eecac",
   "metadata": {},
   "outputs": [],
   "source": [
    "from aiida.orm import StructureData, load_node, CalcJobNode, Dict, RemoteData, StructureData, Bool, SinglefileData, Int, Float, Code\n",
    "import numpy as np\n",
    "from aiida import load_profile\n",
    "\n",
    "_ = load_profile()"
   ]
  },
  {
   "cell_type": "markdown",
   "id": "f1003d2c-261b-430f-b751-ad5e4eda634a",
   "metadata": {
    "tags": []
   },
   "source": [
    "# 4. `StrucWithPotData` "
   ]
  },
  {
   "cell_type": "markdown",
   "id": "99bc9765-6768-44e0-9f77-d56312ba9a0a",
   "metadata": {},
   "source": [
    "## **4.1 `StrucWithPotData` - starting from a structure with potential data**\n",
    "\n",
    "\n",
    "The converted potentials files, which are retrieved, can be used e.g. to create a new structure by stacking preexisting structures and creating some defect containing supercell by replacing/adding some potential form another calculation with a different element. However, this  is in principle difficult as the Fermi levels of the individual potentials would have to align which they tend not to, if one mixes different calculations. A workaround that is to make use of the possibility to run CPA calculations with KKRhost. This way one can obtain a good starting potential with aligned Fermi levels.\n",
    "\n",
    "\n",
    "To ensure the pronvenance of the input files, i. e. for good bookkeeping, it is helpful to store all the files together in a single object. This can be done using the `StrucWithPotData` datatype that comes with the plugin. Essentially this is just the fixed set of an AiiDA `StructureData` object a list of formatted potential files for the sites of the structure and a list of the shapes of the individual shapefunctions for the corresponding sites in the same order as the site list of the structure.\n",
    "\n",
    "There are several ways how such a `StrucWithPotData` object can be created. The direct way is to provide the structure, the list of potential files, and the list of shapefunction files like so (here we use some files from the local file system, say from a run without AiiDA, bear in mind that shapes and potentials must match!):"
   ]
  },
  {
   "cell_type": "code",
   "execution_count": null,
   "id": "01e458f4-3e74-41d2-9ece-c8e6fe23fcde",
   "metadata": {},
   "outputs": [],
   "source": [
    "from aiida_kkr.data.strucwithpot import StrucWithPotData\n",
    "from aiida.orm import SinglefileData\n",
    "import os\n",
    "\n",
    "#Preparing lists from existing file in tutorial subdirectory\n",
    "path=os.getcwd()+\"/example_shapes_pots/\"\n",
    "list1=[SinglefileData(path+\"shape.0000001\"),SinglefileData(path+\"shape.0000002\")]\n",
    "list2=[SinglefileData(path+\"vpot.00001\"),SinglefileData(path+\"vpot.00002\")]"
   ]
  },
  {
   "cell_type": "code",
   "execution_count": null,
   "id": "098d9c2a-bc70-4aef-9a65-daab5b3b1856",
   "metadata": {},
   "outputs": [],
   "source": [
    "from aiida.orm import StructureData\n",
    "import numpy as np\n",
    "alat = 3.61\n",
    "bravais = alat*np.array([[1.0, 0.0, 0], [0.0, 1.0, 0], [0, 0, 1.0]])\n",
    "\n",
    "Cu_bulk = StructureData(cell=bravais)\n",
    "Cu_bulk.append_atom(position=[0,0,0], symbols='Cu')\n",
    "Cu_bulk.append_atom(position=alat*np.array([0,0.5,0.5]), symbols='Cu')\n",
    "\n",
    "StrucWithPotData(\n",
    "    passedStructure=Cu_bulk,\n",
    "    list_of_shapes=list1,\n",
    "    list_of_pots=list2\n",
    ")"
   ]
  },
  {
   "cell_type": "markdown",
   "id": "561bc02e-f115-4fab-8a1c-2917b57caa64",
   "metadata": {},
   "source": [
    "The lists must consist of `SingleFileData` objects.\n",
    "\n",
    "\n",
    "However, it is also possible to use a **KKRnano calculation convert calculation node** as an input to create a `StrucWithPotData` object:"
   ]
  },
  {
   "cell_type": "code",
   "execution_count": null,
   "id": "c884fd38-c893-41e6-a982-462bc0d7a1f3",
   "metadata": {},
   "outputs": [],
   "source": [
    "# stwpd_kkrnano=StrucWithPotData(\n",
    "#     KKRnanoCalcNode=kkr_conv\n",
    "# )\n",
    "stwpd_kkrnano=load_node(\"7c85f241-621e-4634-8586-027b8d5914b9\")\n",
    "stwpd_kkrnano.store()"
   ]
  },
  {
   "cell_type": "markdown",
   "id": "f7fef932-d31d-4c5a-a3e3-715643c01c78",
   "metadata": {},
   "source": [
    "This traces back which `StructureData` object was used for the calculation (indirectly at some point via the Voronoi input, etc.), it finds a shapefunction, that must have been used at some point. However, ideally the shapes were written out as otherwise they (probably) do not match the potential files of the convert step (see remarks on Voronoi calculation). That is why this should always be set when running calculations aimed to be used in conjunction with the formatted potentials.\n",
    "As the remote folder has to be accessed in the process of finding the shapes, this might firstly take a while, and secondly, this means that also the local folder is used temporarily to store the shapefunctions and potentials in before they are moved to the repository.\n",
    "Also mind that only the convert calculation can be used as the regular run does not feature a formatted potential output. \n",
    "\n",
    "In addition also **KKRhost calculations** and **Voronoi calculation** can be read in and processed to `StructureData` objects. This is done similarly via\n",
    "```\n",
    "StrucWithPotData(\n",
    "    KKRhostCalcNode=calc\n",
    ")\n",
    "```\n",
    "or\n",
    "```\n",
    "StrucWithPotData(\n",
    "    VoronoiCalcNode=calc\n",
    ")\n",
    "```\n",
    "In our case:"
   ]
  },
  {
   "cell_type": "code",
   "execution_count": null,
   "id": "0f04a61e-8643-47b4-ac84-522e23dc5b6b",
   "metadata": {},
   "outputs": [],
   "source": [
    "StrucWithPotData(\n",
    "    VoronoiCalcNode=voro_calc\n",
    ")"
   ]
  },
  {
   "cell_type": "markdown",
   "id": "af41c0e4-40de-4ac2-bba5-e794941cb327",
   "metadata": {},
   "source": [
    "Here, it is actually irrelevant which argument one uses, as both internally trigger calls of the same functions. What is more, is that one also does need to worry about potential and shapes matching or some convert step, here, since these files are always present in the respective remote folder. Nonetheless, again, it is recommended to use the `RUNOPT=['WRITEALL']` in the Voronoi calculation to ensure that all shapes are written out, as KKRnano might have problems if it is supposed to implicitly use the same function for all sites."
   ]
  },
  {
   "cell_type": "markdown",
   "id": "b79967f9-0066-4230-85f3-c94d34331269",
   "metadata": {},
   "source": [
    "## 4.2 Using CPA calculations as input\n",
    "One can also print out the shapefunction or potential of the created `StrucWithPotData` object using `make_potential()` and `make_shapefun()`:"
   ]
  },
  {
   "cell_type": "code",
   "execution_count": null,
   "id": "baf44e54-aaa6-439e-8df5-3b3986b432e4",
   "metadata": {
    "scrolled": true,
    "tags": []
   },
   "outputs": [],
   "source": [
    "print(stwpd_kkrnano.make_potential())"
   ]
  },
  {
   "cell_type": "code",
   "execution_count": null,
   "id": "01f117b4-3e6b-46b7-a5ad-bec665d6554e",
   "metadata": {
    "scrolled": true,
    "tags": []
   },
   "outputs": [],
   "source": [
    "print(stwpd_kkrnano.make_shapefun())"
   ]
  },
  {
   "cell_type": "markdown",
   "id": "007886fb-0b9a-4856-bc41-ba8bf3270ab6",
   "metadata": {},
   "source": [
    "Moreover, one can get the sites as a `dict` using `site()` yielding a `list` with entries like this"
   ]
  },
  {
   "cell_type": "code",
   "execution_count": null,
   "id": "100481f6-8b18-467f-8877-2a3ddb0bcbc7",
   "metadata": {},
   "outputs": [],
   "source": [
    "stwpd_kkrnano.sites()"
   ]
  },
  {
   "cell_type": "markdown",
   "id": "9b8f22fa-8d77-4a6d-86f6-229ac6e12aa4",
   "metadata": {},
   "source": [
    "### 4.2.1 Building a supercell from KKRhost CPA calculation\n",
    "\n",
    "In KKRhost it is possible, as mentioned before to perform CPA calculations. Please refer to the documentation of KKRhost and the corresponding AiiDA plugin, to see how this is done.\n",
    "The following example is a finished CPA calculation turned into a `StrucWithPotData` as described above. It is of Bi$_2$Te$_3$ with 0.1 antisite Te:"
   ]
  },
  {
   "cell_type": "code",
   "execution_count": null,
   "id": "21aa13ad-aa6b-471e-a38b-c4eb2de82af7",
   "metadata": {},
   "outputs": [],
   "source": [
    "CPA_calc=load_node(\"f6aea739-d2b2-4df1-8cb0-45c5fbbe6b3e\")\n",
    "CPA_calc.sites()"
   ]
  },
  {
   "cell_type": "markdown",
   "id": "941668cc-ab0d-42e2-b19e-8a4d51de2566",
   "metadata": {
    "tags": []
   },
   "source": [
    "As can be seen from this, it is possible to have more than a single species at a site and having therefore multiple potential files. The input of the multiple potential files is still a list, so that one has to be careful to provide them in the right order, also as said list now is longer than the number of sites. However, this is simply circumvented by creating such a `StrucWithPotData` object directly from a KKRhost calculation as done for this example.\n",
    "\n",
    "We will now build a supercell from this example. We first extract the potentials into lists using the `sites()` function. The second site will be the anti-site:"
   ]
  },
  {
   "cell_type": "code",
   "execution_count": null,
   "id": "6a93dc42-9366-4ac8-9c92-8c886a237177",
   "metadata": {},
   "outputs": [],
   "source": [
    "Bi_pots=[CPA_calc.sites()[j][\"potential\"][0] for j in [0,1]] #checked \n",
    "anti_site_Bi_site_pots=[Bi_pots[0]]+[CPA_calc.sites()[1][\"potential\"][1]] #1st site Bi, 2nd site Te, checked\n",
    "regular_Te_sites=[CPA_calc.sites()[j][\"potential\"] for j in range(2,5)] #checked"
   ]
  },
  {
   "cell_type": "markdown",
   "id": "f979cd43-6082-44ea-b31d-6ea224269082",
   "metadata": {},
   "source": [
    "Then we load the structure, that was used for the CPA calulation, and one that the other was turned into by replacing the second Bi site with a Te site."
   ]
  },
  {
   "cell_type": "code",
   "execution_count": null,
   "id": "1b72c57a-6ea7-42e2-b123-ebbe6f8612eb",
   "metadata": {},
   "outputs": [],
   "source": [
    "#regular Bi2Te3 structure\n",
    "Bi2Te3_struc=load_node(\"615d587e-0d7e-405f-b551-2238ef8c1928\")\n",
    "#anti-site Bi2Te3 structure\n",
    "Bi2Te3_antisite_struc=load_node(\"2f523c7f-cc26-46e1-9b8a-44526c512fa9\")"
   ]
  },
  {
   "cell_type": "markdown",
   "id": "25c16d03-fe3d-4f2b-9192-def040e84374",
   "metadata": {},
   "source": [
    "We now create different `StrucWithPotData` objects using the \"correct\" and the anti-site structures and potential lists."
   ]
  },
  {
   "cell_type": "code",
   "execution_count": null,
   "id": "b80d214e-ee34-4cc8-953a-b84a6797b69a",
   "metadata": {},
   "outputs": [],
   "source": [
    "stwpd_CPA1=StrucWithPotData(passedStructure=Bi2Te3_struc,\\\n",
    "                            list_of_shapes=CPA_calc.shapes,\\\n",
    "                            list_of_pots=Bi_pots+regular_Te_sites)\n",
    "stwpd_CPA_antisite=StrucWithPotData(passedStructure=Bi2Te3_antisite_struc,\\\n",
    "                                    list_of_shapes=CPA_calc.shapes,\\\n",
    "                            list_of_pots=Bi_pots+regular_Te_sites)"
   ]
  },
  {
   "cell_type": "markdown",
   "id": "eeeb55ac-0457-4355-9735-1dd0659d2e36",
   "metadata": {},
   "source": [
    "The we create our small \"supercell\" by stacking existing structures. When doing so, it is important that we make sure the order of the potential files stays correct."
   ]
  },
  {
   "cell_type": "code",
   "execution_count": null,
   "id": "d95c55ed-1915-4c9a-8d6a-8b71c34dd6bf",
   "metadata": {},
   "outputs": [],
   "source": [
    "\n",
    "\n",
    "from rescale import stack_two_strucs\n",
    "\n",
    "struc1=Bi2Te3_struc.get_pymatgen()\n",
    "struc2=Bi2Te3_antisite_struc.get_pymatgen()\n",
    "\n",
    "\n",
    "#stacking in b3 direction (countig starts at 0 for axes!)\n",
    "#stack1 with antisite\n",
    "newstruc1=stack_two_strucs(struc1,struc2)\n",
    "pots1=stwpd_CPA1.potentials + stwpd_CPA_antisite.potentials\n",
    "shapes1=stwpd_CPA1.shapes+stwpd_CPA_antisite.shapes\n",
    "\n",
    "\n",
    "\n",
    "#stack2 without antisite\n",
    "newstruc2=stack_two_strucs(struc1,struc1)\n",
    "pots2=stwpd_CPA1.potentials+stwpd_CPA1.potentials\n",
    "shapes2=stwpd_CPA1.shapes+ stwpd_CPA1.shapes\n",
    "\n",
    "#stacking in b2 direction (countig starts at 0 for axes!)\n",
    "#stack1 with antisite\n",
    "newstruc3=stack_two_strucs(newstruc1,newstruc2, bravais_axis=1)\n",
    "pots3=pots1+pots2\n",
    "shapes3=shapes1+shapes2"
   ]
  },
  {
   "cell_type": "code",
   "execution_count": null,
   "id": "1ff676cc-4ee2-47e1-b34f-7ce384e26404",
   "metadata": {},
   "outputs": [],
   "source": [
    "#Turning the \"raw\" data into a StrucWithPotData object\n",
    "#we want to make sure that the primitive lattice constant is reused throughout the calculations.\n",
    "#Hence, we specify this lattice constant\n",
    "supercell=StrucWithPotData(passedStructure=StructureData(pymatgen=newstruc3), list_of_shapes=shapes3,\\\n",
    "                           list_of_pots=pots3,specified_lattice_constant=Float(struc1.lattice.c))\n",
    "\n",
    "supercell.store()"
   ]
  },
  {
   "cell_type": "markdown",
   "id": "35fad01d-5211-4c1e-b2fa-952b62fe70b3",
   "metadata": {},
   "source": [
    "The resulting structure can be plotted, and we see that in the lower right part a Bi atom is a Te atom."
   ]
  },
  {
   "cell_type": "code",
   "execution_count": null,
   "id": "1eed715c-30d5-4628-b85d-5ca11f0af3cc",
   "metadata": {},
   "outputs": [],
   "source": [
    "plot_kkr(StructureData(pymatgen=newstruc3),silent=True)"
   ]
  },
  {
   "cell_type": "markdown",
   "id": "a55b077b-3288-4196-b38d-b2974274c430",
   "metadata": {},
   "source": [
    "### 4.2.2 Starting a KKRano calculation with a `StrucWithPotData` object\n",
    "Let's focus on starting a calculation using our `StrucWithPotData` object now."
   ]
  },
  {
   "cell_type": "code",
   "execution_count": null,
   "id": "5f72f65d-fff3-4f71-93b7-3d9054fc4a55",
   "metadata": {},
   "outputs": [],
   "source": [
    "from aiida_kkr.calculations.kkrnano import KKRnanoCalculation\n",
    "\n",
    "builder=KKRnanoCalculation.get_builder()\n",
    "\n",
    "#Using suitable parameters\n",
    "builder.parameters=load_node(\"ec6dab6f-a72e-4159-b5b6-df7da1a8fcff\")\n",
    "builder.metadata.options= {'resources': {'num_machines': 1, 'tot_num_mpiprocs': 40},\\\n",
    "                           'queue_name': 'th1-2020-64', 'withmpi': True}\n",
    "\n",
    "builder.code = Code.get_from_string(\"KKRnanoVersuch2@iffslurm\")\n",
    "\n",
    "builder.strucwithpot=supercell"
   ]
  },
  {
   "cell_type": "code",
   "execution_count": null,
   "id": "e26f3d99-8d5b-4582-9dd9-abd3b7d5c642",
   "metadata": {},
   "outputs": [],
   "source": [
    "#supercell_calc=submit(builder) #takes very long\n",
    "supercell_calc=load_node(\"33804a10-be0f-4cfa-b73a-4b7de7eedbaf\")\n",
    "supercell_calc"
   ]
  },
  {
   "cell_type": "code",
   "execution_count": null,
   "id": "8ab30192-c323-4f38-996e-37817424246d",
   "metadata": {},
   "outputs": [],
   "source": [
    "print(\"rms-error\", supercell_calc.outputs.output_parameters[\"rms_all_iterations\"][-5:])"
   ]
  },
  {
   "cell_type": "markdown",
   "id": "f8d4ae50-ad13-47ba-84fa-abb12fecd200",
   "metadata": {},
   "source": [
    "One could now further investigate the implications of this by exploring the DOS, making larger supercells and studying the real space dependence of defects!"
   ]
  },
  {
   "cell_type": "code",
   "execution_count": null,
   "id": "a7faab21-929e-457a-8214-b9905edff99d",
   "metadata": {},
   "outputs": [],
   "source": []
  }
 ],
 "metadata": {
  "kernelspec": {
   "display_name": "AiiDA",
   "language": "python",
   "name": "aiida"
  },
  "language_info": {
   "codemirror_mode": {
    "name": "ipython",
    "version": 3
   },
   "file_extension": ".py",
   "mimetype": "text/x-python",
   "name": "python",
   "nbconvert_exporter": "python",
   "pygments_lexer": "ipython3",
   "version": "3.8.10"
  }
 },
 "nbformat": 4,
 "nbformat_minor": 5
}
