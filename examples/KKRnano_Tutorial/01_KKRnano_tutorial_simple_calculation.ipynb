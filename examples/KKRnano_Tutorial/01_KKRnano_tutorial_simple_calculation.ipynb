{
 "cells": [
  {
   "cell_type": "markdown",
   "id": "67cea0f8-c1bd-43a3-89f0-783d63164989",
   "metadata": {
    "tags": []
   },
   "source": [
    "# KKRnano Tutorial\n",
    "\n",
    "\n",
    "### Overview\n",
    "\n",
    "* [Part 0: basic introduction to KKRnano](00_KKRnano_tutorial_basics.ipynb)\n",
    "* [Part 1: starting KKRnano from Voronoi](01_KKRnano_tutorial_simple_calculation.ipynb)\n",
    "* [Part 2: continuing KKRnano calculations](02_KKRnano_tutorial_continue_calculations.ipynb)\n",
    "* [Part 3: use a KKRnano workflow](03_KKRnano_tutorial_DOSworkchain.ipynb)\n",
    "* [Part 4: StrucWithPotData](04_KKRnano_tutorial_StrucWithPotData.ipynb)\n",
    "\n",
    "## Part 1: Starting KKRnano from Voronoi"
   ]
  },
  {
   "cell_type": "code",
   "execution_count": 1,
   "id": "b00999d8-1258-4a18-919a-e2cc3e1eecac",
   "metadata": {},
   "outputs": [],
   "source": [
    "from aiida.orm import StructureData, load_node, CalcJobNode, Dict, RemoteData, StructureData, Bool, SinglefileData, Int, Float\n",
    "import numpy as np\n",
    "from aiida import load_profile\n",
    "\n",
    "_ = load_profile()"
   ]
  },
  {
   "cell_type": "markdown",
   "id": "f213cb0f-5ae9-4cd8-995a-374172f4f990",
   "metadata": {
    "tags": []
   },
   "source": [
    "# 1. Voronoi Calculation"
   ]
  },
  {
   "cell_type": "markdown",
   "id": "11f1f290-a00b-4c70-b01d-c85755be1a6a",
   "metadata": {
    "tags": []
   },
   "source": [
    "## **1. `VoronoiCalculation` - starting potential generator**\n",
    "*(from [KKRhost tutorial](https://github.com/JuDFTteam/judft_tutorials/blob/86b9b15b553a8d5d1aaf6d4faedb05a225954a3b/tutorials/iffaiida_tutorial_01_2020/aiida-kkr/AiiDA-KKR_tutorial_basic_calculations.ipynb))*"
   ]
  },
  {
   "cell_type": "code",
   "execution_count": 2,
   "id": "c9a53d0c-fa9f-4de0-99c0-7e6addde87b3",
   "metadata": {},
   "outputs": [],
   "source": [
    "from aiida.orm import StructureData\n",
    "import numpy as np\n",
    "alat = 3.61\n",
    "bravais = alat*np.array([[1.0, 0.0, 0], [0.0, 1.0, 0], [0, 0, 1.0]])\n",
    "\n",
    "Cu_bulk = StructureData(cell=bravais)\n",
    "Cu_bulk.append_atom(position=[0,0,0], symbols='Cu')\n",
    "Cu_bulk.append_atom(position=alat*np.array([0,0.5,0.5]), symbols='Cu')\n",
    "\n",
    "from aiida_kkr.tools import kkrparams\n",
    "params = kkrparams(params_type='voronoi')\n",
    "params.set_multiple_values(RUNOPT=['WRITEALL'], LMAX=2, NSPIN=2, RCLUSTZ=2.3)\n",
    "\n",
    "from aiida.orm import Dict\n",
    "ParaNode = Dict(dict=params.get_dict())\n"
   ]
  },
  {
   "cell_type": "code",
   "execution_count": 3,
   "id": "154edcf9-f2d4-4230-b6f5-fec9b462a5f0",
   "metadata": {},
   "outputs": [],
   "source": [
    "from aiida.orm import Code\n",
    "# choose voronoi compiled for intel nodes of iffslurm (partitions `oscar`, `th1`, `viti`, `th1-2020-32` and `th1-2020-64`)\n",
    "codename = 'voronoi_3.5_intel@iffslurm'\n",
    "code = Code.get_from_string(codename)\n",
    "\n",
    "builder = code.get_builder()\n",
    "# set resources that will be used (here serial job) in the options dict of the metadata\n",
    "builder.metadata.options = {\n",
    "    # set the resources on the cluster (iffslurm in this example) that are used for this calculation\n",
    "    # for this voronoi calculation we use a single node with only one processor (i.e. we run voronoi in serial)\n",
    "    'resources': {'num_machines': 1,\n",
    "                  'tot_num_mpiprocs':1,\n",
    "                 },\n",
    "    'withmpi': False,\n",
    "    # for iffslurm we need to choose a partition to which the calculation is sent\n",
    "    'queue_name': 'th1',\n",
    "}\n",
    "# set structure and input parameter:\n",
    "builder.structure = Cu_bulk\n",
    "builder.parameters = ParaNode"
   ]
  },
  {
   "cell_type": "code",
   "execution_count": 4,
   "id": "664af766-80c3-4e15-8178-22cf17343f88",
   "metadata": {},
   "outputs": [
    {
     "data": {
      "text/plain": [
       "<CalcJobNode: uuid: c7bada4d-82ea-4d28-a4d4-55aaba918291 (pk: 186710) (aiida.calculations:kkr.voro)>"
      ]
     },
     "execution_count": 4,
     "metadata": {},
     "output_type": "execute_result"
    }
   ],
   "source": [
    "from aiida.engine import submit\n",
    "from aiida.orm import load_node\n",
    "# voro_calc = submit(builder)\n",
    "voro_calc=load_node(\"c7bada4d-82ea-4d28-a4d4-55aaba918291\")\n",
    "voro_calc"
   ]
  },
  {
   "cell_type": "markdown",
   "id": "21ea7f81-0261-4faa-b24c-1a0662a0100d",
   "metadata": {
    "tags": []
   },
   "source": [
    "# 2. `KKRnanoCalculation`"
   ]
  },
  {
   "cell_type": "markdown",
   "id": "65570272-39cb-4b2e-b1a0-8e347cad8649",
   "metadata": {},
   "source": [
    "## **2.1 `KKRnanoCalculation` - KKRnano code for periodic bulk crystals with large unit cells**\n",
    "\n",
    "Having installed and setup KKRnano and obtained a `parent_folder` via the Voronoi plugin, one can proceed to run a KKRnano calculation.\n",
    "Besides the \n",
    "- `parent_folder` (`RemoteData`),\n",
    "also the calculation parameters need to be set. Like for the Voronoi calculation, this builder parameters, called\n",
    "- `parameters` takes a `Dict` as input node.\n",
    "\n",
    "The parameters which can be set are (at least partially) given [here](https://iffgit.fz-juelich.de/kkr/jukkr/-/wikis/kkrnano/input.conf).\n",
    "\n",
    "The parameters defining the lattice (`bravais_a`, `bravais_b`, `bravais_c`, `cartesian`,`basisscale`) are set automatically based on the structure (`StructureData`) that is either passed indirectly via the parent calculation or as part of a `StrucWithPotData` object.\n",
    "\n",
    "The lattice constant (`alat` in input file `input.conf`) is also generated from the `StructureData`. Nevertheless, it is possible and for the calculation of supercells advisable to use the builder parameter \n",
    "- `passed_lattice_param_angs` (`Float` node) to set a lattice constant,\n",
    "that corresponds to a single unit cell as the KKR calculation uses cutoffs (`RMAX`, `GMAX` in input.conf) based on the lattice constant.\n",
    "\n",
    "For the sake of clarity (units, etc.), the entries of the python `dict` that is used to create this `Dict` node are suggested to have the following structure:\n",
    "```\n",
    "'emin': {'value': -1.2, 'unit':'Rydberg', 'required': True, 'description':  'lower energy of contour'}\n",
    "```\n",
    "However, only the key `'value'` is processed for the generation of the input file and in case of improper declaration (`'emin': -1.2`), the plugin proceeds by assuming that `'emin': {'value': -1.2}` was meant. \n",
    "Moreover, it is checked that all required keys were given in the dictionary and that they have the correct datatype.\n",
    "\n",
    "Another input for using non-colinear calculations (`KORBIT`) is \n",
    "-`nocoangles` which takes a `Dict` node created from dictionary with structure \n",
    "```\n",
    "dict={'atom':{1:{'theta':0,'phi':0, 'fix_angle_mode':1}, ...}\n",
    "```\n",
    "\n",
    "The angles 'theta' (polar angle going from z- to x-direction) and 'phi' (azimuthal angle) are given in deg. and 'fix_angle_mode' takes values 0,1,2,3. 0 is for relaxation of the spin-direciton, 1 is for fixing it; 2 and 3 are for constraining fields calculations.\n",
    "The above given example which corresponds to fixed parallel spins in z-direction is automatically generated if necessary and no such dictionary was provided.\n",
    "\n",
    "**NOTE:** Unfortunately, the parsing of the corresponding output file/ copying in case of continuation is not yet implemented.\n",
    "\n",
    "Besides, there is also a parameter \n",
    "- `strucwithpot` which takes a `StrucWithPotData` object.\n",
    "\n",
    "Finally, there is also an input \n",
    "- `convert` which takes a `Bool` node whose default value is `False`.\n",
    "\n",
    "The use of these inputs will be explained later. Beware that `strucwithpot` cannot be used together with a `parent_folder` and `convert` not with the regular KKRnano code node!\n",
    "\n",
    "\n",
    "\n",
    "### **2.1 KKRnano calculation from voronoi parent**\n",
    "\n",
    "> **Note:**\\\n",
    "> This part assumes that the `voro_calc` of the first part has finished successfully. If you want to start from another voronoi calculation, you can load it using the calculation's `uuid` or `pk` attributes (globally and database-locally unique identifier, respectively).\n",
    "> ```python\n",
    "> from aiida.orm import load_node\n",
    "> voro_calc = load_node(__CALC_ID__)\n",
    "> ```\n",
    "\n",
    "We first take the output `remote_folder` nodes of the previous voronoi calculation and now set the parameters for our Cu example as in the linked example for KKRnano:"
   ]
  },
  {
   "cell_type": "code",
   "execution_count": 5,
   "id": "c7d627bd-8cdd-40d6-ac6f-c46d0ea32fa1",
   "metadata": {
    "scrolled": true,
    "tags": []
   },
   "outputs": [
    {
     "name": "stderr",
     "output_type": "stream",
     "text": [
      "/opt/aiida-kkr/examples/KKRnano_Tutorial/ParseInput.py:64: VisibleDeprecationWarning: Reading unicode strings without specifying the encoding argument is deprecated. Set the encoding, use None for the system default.\n",
      "  value=np.genfromtxt(StringIO(lineparts_nocomment), dtype=None) #read in all entries as strings\n"
     ]
    },
    {
     "data": {
      "text/plain": [
       "{'bzdivide': {'value': array([8, 8, 8])},\n",
       " 'rclust': {'value': 0.73},\n",
       " 'cutoff_radius': {'value': 4.03},\n",
       " 'NTHRDS': {'value': 1},\n",
       " 'nthrds': {'value': 1},\n",
       " 'EMPID': {'value': 3},\n",
       " 'IGUESSD': {'value': 0},\n",
       " 'iguessd': {'value': 0},\n",
       " 'IGUESS': {'value': 0},\n",
       " 'iguess': {'value': 0},\n",
       " 'lmaxd': {'value': 3},\n",
       " 'LMAXD': {'value': 3},\n",
       " 'emin': {'value': -0.56},\n",
       " 'emax': {'value': 0.78},\n",
       " 'npnt1': {'value': 5},\n",
       " 'npnt2': {'value': 16},\n",
       " 'npnt3': {'value': 4},\n",
       " 'npol': {'value': 7},\n",
       " 'tempr': {'value': 800.0},\n",
       " 'target_rms': {'value': 0.0},\n",
       " 'mt_zero_shift': {'value': 0.0},\n",
       " 'num_atom_procs': {'value': 1},\n",
       " 'scfsteps': {'value': 3},\n",
       " 'imix': {'value': 6},\n",
       " 'mixing': {'value': 0.05},\n",
       " 'fcm': {'value': 20.0},\n",
       " 'rmax': {'value': 6.0},\n",
       " 'gmax': {'value': 65.0},\n",
       " 'kxc': {'value': 2},\n",
       " 'qmrbound': {'value': 1e-05},\n",
       " 'icst': {'value': 4},\n",
       " 'kpre': {'value': 0},\n",
       " 'kforce': {'value': 1},\n",
       " 'jij': {'value': False},\n",
       " 'ldau': {'value': False},\n",
       " 'rcutjij': {'value': 2.0},\n",
       " 'nsra': {'value': 2},\n",
       " 'kte': {'value': 1},\n",
       " 'soc': {'value': True},\n",
       " 'KORBIT': {'value': 1},\n",
       " 'NSPIND': {'value': 2},\n",
       " 'r_log': {'value': 1.2},\n",
       " 'npan_log': {'value': 52},\n",
       " 'npan_eq': {'value': 8},\n",
       " 'ncheb': {'value': 6},\n",
       " 'rclust_voronoi': {'value': 1.23},\n",
       " 'nmin_panel': {'value': 5},\n",
       " 'num_MT_points': {'value': 10},\n",
       " 'write_shapes': {'value': 1}}"
      ]
     },
     "execution_count": 5,
     "metadata": {},
     "output_type": "execute_result"
    }
   ],
   "source": [
    "voronoi_calc_folder = voro_calc.outputs.remote_folder\n",
    "voro_params = voro_calc.inputs.parameters\n",
    "\n",
    "import ParseInput\n",
    "import os\n",
    "filename=os.getcwd()+\"/example_Cu_input.conf\"\n",
    "inputdict=ParseInput.get_inputdict_nano(filename)\n",
    "inputdict"
   ]
  },
  {
   "cell_type": "code",
   "execution_count": 6,
   "id": "f0a80865-f9ec-4c08-9495-d92388dae6b6",
   "metadata": {},
   "outputs": [],
   "source": [
    "ParaNode = Dict(dict=inputdict)"
   ]
  },
  {
   "cell_type": "markdown",
   "id": "d4c10467-f703-4ef8-9cbd-df41c115e650",
   "metadata": {},
   "source": [
    "Now we have all the inputs ready for a `KkrCalculation`. Again, we get the code and attach the inputs to the process, using the process builder:"
   ]
  },
  {
   "cell_type": "code",
   "execution_count": 7,
   "id": "c82451a4-d7fb-488f-a6c2-cbde9cd2fd03",
   "metadata": {},
   "outputs": [],
   "source": [
    "# construct process builder\n",
    "from aiida_kkr.calculations.kkrnano import KKRnanoCalculation\n",
    "builder = KKRnanoCalculation.get_builder()\n",
    "\n",
    "# get the KKRnano code \n",
    "builder.code = Code.get_from_string(\"KKRnanoVersuch2@iffslurm\")\n",
    "\n",
    "# set the adapted KKR params\n",
    "builder.parameters = ParaNode\n",
    "# parente remote_folder of the Voronoi calculation\n",
    "builder.parent_folder = voronoi_calc_folder"
   ]
  },
  {
   "cell_type": "markdown",
   "id": "548e6015-ce3d-49a9-85dd-1bde6b2aeea1",
   "metadata": {},
   "source": [
    "KKRnano is more sensitive to the computation core settings than KKRhost. They have to be set correctly."
   ]
  },
  {
   "cell_type": "code",
   "execution_count": 8,
   "id": "feb0d5c9-b591-4254-8b70-e066899b8921",
   "metadata": {},
   "outputs": [],
   "source": [
    "# set the computer resources and queue_name\n",
    "# here we use a single node and 3 cores per node\n",
    "builder.metadata.options = {\n",
    "    'resources': {'num_machines': 1,\n",
    "                  'num_mpiprocs_per_machine': 3,\n",
    "                 },\n",
    "    'queue_name': 'viti',\n",
    "    # the 'withmpi' key controls whether or not mpi is used in the jobscript\n",
    "    'withmpi': True,\n",
    "}"
   ]
  },
  {
   "cell_type": "markdown",
   "id": "66747d5c-3371-4d88-8759-ede3360417d8",
   "metadata": {},
   "source": [
    "And we run the KKRhost calculation using the ``submit()`` method:"
   ]
  },
  {
   "cell_type": "code",
   "execution_count": 9,
   "id": "44b879d3-67c2-4558-89f6-bc53afaeb3b2",
   "metadata": {},
   "outputs": [
    {
     "data": {
      "text/plain": [
       "<CalcJobNode: uuid: da234580-b279-490b-972a-cdf9254c9278 (pk: 186715) (aiida.calculations:kkr.kkrnano)>"
      ]
     },
     "execution_count": 9,
     "metadata": {},
     "output_type": "execute_result"
    }
   ],
   "source": [
    "# kkr_calc = submit(builder)\n",
    "kkr_calc = load_node('da234580-b279-490b-972a-cdf9254c9278')\n",
    "kkr_calc"
   ]
  },
  {
   "cell_type": "markdown",
   "id": "173cfcbe-f14a-44ba-9337-5d34c17848f7",
   "metadata": {},
   "source": [
    "The calculation is submitted to the daemon which takes care of submitting it to the remote machine if necessary. If the calculation fails, it is worth first checking via the verdi commands in the shell."
   ]
  },
  {
   "cell_type": "code",
   "execution_count": 10,
   "id": "b60f12ee-cb66-4d99-8168-f663521bc9cd",
   "metadata": {},
   "outputs": [
    {
     "name": "stdout",
     "output_type": "stream",
     "text": []
    },
    {
     "name": "stdout",
     "output_type": "stream",
     "text": []
    },
    {
     "name": "stdout",
     "output_type": "stream",
     "text": [
      "\u001b[22mProperty     Value\n",
      "-----------  ------------------------------------\n",
      "type         KKRnanoCalculation\n",
      "state        Finished [0]\n",
      "pk           186728\n",
      "uuid         a931437e-c472-494a-bb46-6de0c4831fee\n",
      "label\n",
      "description\n",
      "ctime        2022-07-19 08:51:33.521867+00:00\n",
      "mtime        2022-07-19 08:59:04.460550+00:00\n",
      "computer     [2] iffslurm\n",
      "\n",
      "Inputs                         PK  Type\n",
      "-------------------------  ------  ----------\n",
      "code                       186680  Code\n",
      "convert                    186726  Bool\n",
      "nocoangles                 186725  Dict\n",
      "parameters                 186588  Dict\n",
      "parent_folder              186489  RemoteData\n",
      "passed_lattice_param_angs  186727  Float\n",
      "\n",
      "Outputs                PK  Type\n",
      "-----------------  ------  ----------\n",
      "output_parameters  186731  Dict\n",
      "remote_folder      186729  RemoteData\n",
      "retrieved          186730  FolderData\u001b[0m\n"
     ]
    }
   ],
   "source": [
    "#!verdi process show <PK>\n",
    "!verdi process show 186728"
   ]
  },
  {
   "cell_type": "markdown",
   "id": "22b208ff-6f20-49ee-9649-731372f169fa",
   "metadata": {},
   "source": [
    "or (more detailed):\n"
   ]
  },
  {
   "cell_type": "code",
   "execution_count": 11,
   "id": "ce19e210-83bc-4a42-88bf-59299c82d00f",
   "metadata": {},
   "outputs": [
    {
     "name": "stdout",
     "output_type": "stream",
     "text": []
    },
    {
     "name": "stdout",
     "output_type": "stream",
     "text": [
      "\u001b[22m*** 186728: None\n",
      "*** Scheduler output:\n",
      "iffcluster0805: Using InfiniBand for MPI communication.\n",
      "icc version 19.1.0.166 (gcc version 4.8.5 compatibility)\n",
      "ifort version 19.1.0.166\n",
      "\n",
      "*** (empty scheduler errors file)\n",
      "*** 0 LOG MESSAGES\u001b[0m\n"
     ]
    }
   ],
   "source": [
    "#!verdi process report <PK>\n",
    "!verdi process report 186728"
   ]
  },
  {
   "cell_type": "markdown",
   "id": "5c302d4a-1184-43b8-9cc1-28bdec65371a",
   "metadata": {},
   "source": [
    "Another overview of all the details of the `calcfunction` can be found like this"
   ]
  },
  {
   "cell_type": "code",
   "execution_count": 12,
   "id": "43650ad5-4101-4839-aefc-6be079ab76ff",
   "metadata": {
    "scrolled": true,
    "tags": []
   },
   "outputs": [
    {
     "data": {
      "text/plain": [
       "{'job_id': '3581212',\n",
       " 'sealed': True,\n",
       " 'version': {'core': '1.6.5', 'plugin': '1.1.11-dev5'},\n",
       " 'withmpi': True,\n",
       " 'resources': {'num_machines': 1, 'num_mpiprocs_per_machine': 3},\n",
       " 'queue_name': 'viti',\n",
       " 'append_text': '',\n",
       " 'exit_status': 0,\n",
       " 'parser_name': 'kkr.kkrnanoparser',\n",
       " 'prepend_text': '',\n",
       " 'last_job_info': {'title': 'aiida-15131',\n",
       "  'job_id': '3581212',\n",
       "  'raw_data': ['3581212',\n",
       "   'R',\n",
       "   'None',\n",
       "   'iffcluster0801',\n",
       "   'struckmann',\n",
       "   '1',\n",
       "   '20',\n",
       "   'iffcluster0801',\n",
       "   'viti',\n",
       "   'UNLIMITED',\n",
       "   '5:40',\n",
       "   '2022-04-30T14:22:09',\n",
       "   'aiida-15131',\n",
       "   '2022-04-30T14:22:09'],\n",
       "  'job_owner': 'struckmann',\n",
       "  'job_state': 'running',\n",
       "  'annotation': 'None',\n",
       "  'queue_name': 'viti',\n",
       "  'num_machines': 1,\n",
       "  'num_mpiprocs': 20,\n",
       "  'dispatch_time': {'date': '2022-04-30T14:22:09.000000', 'timezone': None},\n",
       "  'submission_time': {'date': '2022-04-30T14:22:09.000000', 'timezone': None},\n",
       "  'allocated_machines_raw': 'iffcluster0801',\n",
       "  'wallclock_time_seconds': 340,\n",
       "  'requested_wallclock_time_seconds': 2147483647},\n",
       " 'process_label': 'KKRnanoCalculation',\n",
       " 'process_state': 'finished',\n",
       " 'retrieve_list': ['output.0.txt',\n",
       "  'out',\n",
       "  'nonco_angle_out.dat',\n",
       "  'bin.dims',\n",
       "  'convert_out',\n",
       "  'vpot*',\n",
       "  'DOS*',\n",
       "  'nonco_angle_out.dat',\n",
       "  'bin.vpotnew',\n",
       "  'bin.vpotnew.idx',\n",
       "  'bin.meshes',\n",
       "  'bin.meshes.idx',\n",
       "  'bin.energy_mesh',\n",
       "  'bin.atoms',\n",
       "  '_scheduler-stdout.txt',\n",
       "  '_scheduler-stderr.txt'],\n",
       " 'input_filename': 'input.conf',\n",
       " 'remote_workdir': '/local/th1/iff003/struckmann/aiida_run/da/23/4580-b279-490b-972a-cdf9254c9278',\n",
       " 'output_filename': 'out',\n",
       " 'scheduler_state': 'done',\n",
       " 'scheduler_stderr': '_scheduler-stderr.txt',\n",
       " 'scheduler_stdout': '_scheduler-stdout.txt',\n",
       " 'detailed_job_info': {'retval': 0,\n",
       "  'stderr': '',\n",
       "  'stdout': 'AllocCPUS|Account|AssocID|AveCPU|AvePages|AveRSS|AveVMSize|Cluster|Comment|CPUTime|CPUTimeRAW|DerivedExitCode|Elapsed|Eligible|End|ExitCode|GID|Group|JobID|JobName|MaxRSS|MaxRSSNode|MaxRSSTask|MaxVMSize|MaxVMSizeNode|MaxVMSizeTask|MinCPU|MinCPUNode|MinCPUTask|NCPUS|NNodes|NodeList|NTasks|Priority|Partition|QOSRAW|ReqCPUS|Reserved|ResvCPU|ResvCPURAW|Start|State|Submit|Suspended|SystemCPU|Timelimit|TotalCPU|UID|User|UserCPU|\\n20|struckmann|7406|||||iffcluster||01:58:40|7120|0:0|00:05:56|2022-04-30T14:22:09|2022-04-30T14:28:05|0:0|57210|ias-1|3581212|aiida-15131||||||||||20|1|iffcluster0801||4294345012|viti|1|3|00:00:00|00:00:00|0|2022-04-30T14:22:09|COMPLETED|2022-04-30T14:22:09|00:00:00|00:01.331|UNLIMITED|14:03.491|26000287|struckmann|14:02.160|\\n20|struckmann|7406|00:00:00|0|7860K|439752K|iffcluster||01:58:40|7120||00:05:56|2022-04-30T14:22:09|2022-04-30T14:28:05|0:0|||3581212.batch|batch|7860K|iffcluster0801|0|439752K|iffcluster0801|0|00:00:00|iffcluster0801|0|20|1|iffcluster0801|1||||20||||2022-04-30T14:22:09|COMPLETED|2022-04-30T14:22:09|00:00:00|00:00.265||00:00.510|||00:00.245|\\n20|struckmann|7406|00:00:00|1|636K|125264K|iffcluster||01:58:40|7120||00:05:56|2022-04-30T14:22:09|2022-04-30T14:28:05|0:0|||3581212.extern|extern|636K|iffcluster0801|0|125264K|iffcluster0801|0|00:00:00|iffcluster0801|0|20|1|iffcluster0801|1||||20||||2022-04-30T14:22:09|COMPLETED|2022-04-30T14:22:09|00:00:00|00:00.001||00:00.001|||00:00:00|\\n1|struckmann|7406|00:00:00|0|1156K|349496K|iffcluster||00:00:03|3||00:00:03|2022-04-30T14:23:20|2022-04-30T14:23:23|0:0|||3581212.0|kkrnano.exe|1156K|iffcluster0801|0|349496K|iffcluster0801|0|00:00:00|iffcluster0801|0|1|1|iffcluster0801|1||||1||||2022-04-30T14:23:20|COMPLETED|2022-04-30T14:23:20|00:00:00|00:00.140||00:00.209|||00:00.069|\\n3|struckmann|7406|00:04:36|0|252193450|2371868K|iffcluster||00:14:06|846||00:04:42|2022-04-30T14:23:23|2022-04-30T14:28:05|0:0|||3581212.1|kkrnano.exe|316492K|iffcluster0801|0|2444092K|iffcluster0801|0|00:04:29|iffcluster0801|2|3|1|iffcluster0801|3||||3||||2022-04-30T14:23:23|COMPLETED|2022-04-30T14:23:23|00:00:00|00:00.923||14:02.769|||14:01.845|\\n'},\n",
       " 'mpirun_extra_params': [],\n",
       " 'environment_variables': {},\n",
       " 'import_sys_environment': True,\n",
       " 'submit_script_filename': '_aiidasubmit.sh',\n",
       " 'retrieve_temporary_list': [],\n",
       " 'scheduler_lastchecktime': '2022-04-30T12:28:35.601452+00:00',\n",
       " 'custom_scheduler_commands': ''}"
      ]
     },
     "execution_count": 12,
     "metadata": {},
     "output_type": "execute_result"
    }
   ],
   "source": [
    "kkr_calc.attributes"
   ]
  },
  {
   "cell_type": "markdown",
   "id": "71377c2b-3143-4bfc-93ad-c8987e305427",
   "metadata": {},
   "source": [
    "If that fails, one should perhaps check the remote folder, e. g. in the verdi shell or the notebook:"
   ]
  },
  {
   "cell_type": "code",
   "execution_count": 13,
   "id": "cd119a86-1a76-432b-8e84-505b37b4aa16",
   "metadata": {
    "scrolled": true,
    "tags": []
   },
   "outputs": [
    {
     "data": {
      "text/plain": [
       "{'prepare': {'num_atoms': 2,\n",
       "  'kmesh_group': {'number_different_kmeshes': 4,\n",
       "   'number_kpoints_per_kmesh': {'n_kx': [8, 5, 3, 2],\n",
       "    'n_ky': [8, 5, 3, 2],\n",
       "    'n_kz': [8, 5, 3, 2],\n",
       "    'number_of_kpts': [512, 125, 27, 8]}},\n",
       "  'alat_internal': 6.82191131,\n",
       "  'alat_internal_unit': 'a_Bohr',\n",
       "  'direct_bravais_matrix': [[1.0, 0.0, 0.0], [0.0, 1.0, 0.0], [0.0, 0.0, 1.0]],\n",
       "  'reciprocal_bravais_matrix': [[1.0, 0.0, 0.0],\n",
       "   [0.0, 1.0, 0.0],\n",
       "   [0.0, 0.0, 1.0]],\n",
       "  'direct_bravais_matrix_unit': 'alat',\n",
       "  'reciprocal_bravais_matrix_unit': '2*pi / alat'},\n",
       " 'WS_charges': {'charge_in_e': {'atom': {'1': [29.645383,\n",
       "     29.145678,\n",
       "     29.019504],\n",
       "    '2': [29.196714, 28.908467, 29.267407]}},\n",
       "  'spin_moment': {'atom': {'1': [0.0, 0.0, 0.0], '2': [0.0, 0.0, -1e-06]}},\n",
       "  'core_charge_in_e': {'atom': {'1': [18.0, 18.0, 18.0],\n",
       "    '2': [18.0, 18.0, 18.0]}},\n",
       "  'nuclear_charge_in_e': {'atom': {'1': [29.0, 29.0, 29.0],\n",
       "    '2': [29.0, 29.0, 29.0]}}},\n",
       " 'parser_version': '0.0.1',\n",
       " 'rms_all_iterations': [0.29204, 0.25368, 0.18443],\n",
       " 'total_energy_in_eV': [-89884.60355184, -89897.74319335, -89904.88981164],\n",
       " 'fermi_energy_in_ryd': [0.379241, 0.375204, 0.354056],\n",
       " 'total_energy_in_ryd': [-6606.3446142, -6607.31035245, -6607.83561508],\n",
       " 'l_decomposed_charges': {'iterations': {'1': {'atom': {'1': {'m_orb': {'d': 0.0,\n",
       "       'f': 0.0,\n",
       "       'p': 0.0,\n",
       "       's': 0.0,\n",
       "       'non-spherical': 0.0},\n",
       "      'total': {'m_orb': 0.0,\n",
       "       'm_spin': 0.0,\n",
       "       'spin_dn': 0.0072,\n",
       "       'spin_up': -0.0072,\n",
       "       'N_el_spin_dn': 5.8227,\n",
       "       'N_el_spin_up': 5.82270026},\n",
       "      'm_spin': {'d': 0.0, 'f': 0.0, 'p': 0.0, 's': 0.0, 'non-spherical': 0.0},\n",
       "      'spin_dn': {'d': 0.0059,\n",
       "       'f': 0.0001,\n",
       "       'p': 0.0012,\n",
       "       's': 0.0,\n",
       "       'non-spherical': 0.0},\n",
       "      'spin_up': {'d': -0.0059,\n",
       "       'f': -0.0001,\n",
       "       'p': -0.0012,\n",
       "       's': 0.0,\n",
       "       'non-spherical': 0.0},\n",
       "      'N_el_spin_dn': {'d': 5.35576966,\n",
       "       'f': 0.09346177,\n",
       "       'p': 0.28954724,\n",
       "       's': 0.62028508,\n",
       "       'non-spherical': -0.53636375},\n",
       "      'N_el_spin_up': {'d': 5.35576953,\n",
       "       'f': 0.09346204,\n",
       "       'p': 0.28954734,\n",
       "       's': 0.62028506,\n",
       "       'non-spherical': -0.5363637}},\n",
       "     '2': {'m_orb': {'d': 0.0,\n",
       "       'f': 0.0,\n",
       "       'p': 0.0,\n",
       "       's': 0.0,\n",
       "       'non-spherical': 0.0},\n",
       "      'total': {'m_orb': 0.0,\n",
       "       'm_spin': 0.0,\n",
       "       'spin_dn': 0.014,\n",
       "       'spin_up': -0.014,\n",
       "       'N_el_spin_dn': 5.59837005,\n",
       "       'N_el_spin_up': 5.59836986},\n",
       "      'm_spin': {'d': 0.0, 'f': 0.0, 'p': 0.0, 's': 0.0, 'non-spherical': 0.0},\n",
       "      'spin_dn': {'d': 0.0114,\n",
       "       'f': -0.0001,\n",
       "       'p': 0.0027,\n",
       "       's': 0.0,\n",
       "       'non-spherical': 0.0},\n",
       "      'spin_up': {'d': -0.0114,\n",
       "       'f': 0.0001,\n",
       "       'p': -0.0027,\n",
       "       's': 0.0,\n",
       "       'non-spherical': 0.0},\n",
       "      'N_el_spin_dn': {'d': 5.04831197,\n",
       "       'f': 0.29197208,\n",
       "       'p': 0.95800262,\n",
       "       's': 0.41515825,\n",
       "       'non-spherical': -1.11507486},\n",
       "      'N_el_spin_up': {'d': 5.04831198,\n",
       "       'f': 0.29197201,\n",
       "       'p': 0.95800257,\n",
       "       's': 0.41515823,\n",
       "       'non-spherical': -1.11507493}}}},\n",
       "   '2': {'atom': {'1': {'m_orb': {'d': 0.0,\n",
       "       'f': 0.0,\n",
       "       'p': 0.0,\n",
       "       's': 0.0,\n",
       "       'non-spherical': 0.0},\n",
       "      'total': {'m_orb': 0.0,\n",
       "       'm_spin': 0.0,\n",
       "       'spin_dn': 0.0086,\n",
       "       'spin_up': -0.0086,\n",
       "       'N_el_spin_dn': 5.5728447,\n",
       "       'N_el_spin_up': 5.57284475},\n",
       "      'm_spin': {'d': 0.0, 'f': 0.0, 'p': 0.0, 's': 0.0, 'non-spherical': 0.0},\n",
       "      'spin_dn': {'d': 0.0075,\n",
       "       'f': 0.0001,\n",
       "       'p': 0.001,\n",
       "       's': 0.0,\n",
       "       'non-spherical': 0.0},\n",
       "      'spin_up': {'d': -0.0075,\n",
       "       'f': -0.0001,\n",
       "       'p': -0.001,\n",
       "       's': 0.0,\n",
       "       'non-spherical': 0.0},\n",
       "      'N_el_spin_dn': {'d': 5.08637098,\n",
       "       'f': 0.0718749,\n",
       "       'p': 0.24172376,\n",
       "       's': 0.47648116,\n",
       "       'non-spherical': -0.3036061},\n",
       "      'N_el_spin_up': {'d': 5.0863709,\n",
       "       'f': 0.07187494,\n",
       "       'p': 0.24172374,\n",
       "       's': 0.47648119,\n",
       "       'non-spherical': -0.30360602}},\n",
       "     '2': {'m_orb': {'d': 0.0,\n",
       "       'f': 0.0,\n",
       "       'p': 0.0,\n",
       "       's': 0.0,\n",
       "       'non-spherical': 0.0},\n",
       "      'total': {'m_orb': 0.0,\n",
       "       'm_spin': 0.0,\n",
       "       'spin_dn': 0.0111,\n",
       "       'spin_up': -0.0111,\n",
       "       'N_el_spin_dn': 5.45424409,\n",
       "       'N_el_spin_up': 5.45424363},\n",
       "      'm_spin': {'d': 0.0, 'f': 0.0, 'p': 0.0, 's': 0.0, 'non-spherical': 0.0},\n",
       "      'spin_dn': {'d': 0.0086,\n",
       "       'f': 0.0001,\n",
       "       'p': 0.0024,\n",
       "       's': 0.0,\n",
       "       'non-spherical': 0.0},\n",
       "      'spin_up': {'d': -0.0086,\n",
       "       'f': -0.0001,\n",
       "       'p': -0.0024,\n",
       "       's': 0.0,\n",
       "       'non-spherical': 0.0},\n",
       "      'N_el_spin_dn': {'d': 4.98217559,\n",
       "       'f': 0.09943669,\n",
       "       'p': 0.72014139,\n",
       "       's': 0.35834047,\n",
       "       'non-spherical': -0.70585005},\n",
       "      'N_el_spin_up': {'d': 4.98217549,\n",
       "       'f': 0.09943651,\n",
       "       'p': 0.7201414,\n",
       "       's': 0.35834043,\n",
       "       'non-spherical': -0.70585021}}}},\n",
       "   '3': {'atom': {'1': {'m_orb': {'d': 0.0,\n",
       "       'f': 0.0,\n",
       "       'p': 0.0,\n",
       "       's': 0.0,\n",
       "       'non-spherical': 0.0},\n",
       "      'total': {'m_orb': 0.0,\n",
       "       'm_spin': 0.0,\n",
       "       'spin_dn': 0.0111,\n",
       "       'spin_up': -0.0111,\n",
       "       'N_el_spin_dn': 5.50975724,\n",
       "       'N_el_spin_up': 5.50975688},\n",
       "      'm_spin': {'d': 0.0, 'f': 0.0, 'p': 0.0, 's': 0.0, 'non-spherical': 0.0},\n",
       "      'spin_dn': {'d': 0.0101,\n",
       "       'f': -0.0003,\n",
       "       'p': 0.0013,\n",
       "       's': 0.0,\n",
       "       'non-spherical': 0.0},\n",
       "      'spin_up': {'d': -0.0101,\n",
       "       'f': 0.0003,\n",
       "       'p': -0.0013,\n",
       "       's': 0.0,\n",
       "       'non-spherical': 0.0},\n",
       "      'N_el_spin_dn': {'d': 4.93416943,\n",
       "       'f': 0.09302234,\n",
       "       'p': 0.31644493,\n",
       "       's': 0.40822347,\n",
       "       'non-spherical': -0.24210293},\n",
       "      'N_el_spin_up': {'d': 4.93416905,\n",
       "       'f': 0.09302227,\n",
       "       'p': 0.31644487,\n",
       "       's': 0.4082233,\n",
       "       'non-spherical': -0.24210262}},\n",
       "     '2': {'m_orb': {'d': 0.0,\n",
       "       'f': 0.0,\n",
       "       'p': 0.0,\n",
       "       's': 0.0,\n",
       "       'non-spherical': 0.0},\n",
       "      'total': {'m_orb': 0.0,\n",
       "       'm_spin': 0.0,\n",
       "       'spin_dn': 0.0088,\n",
       "       'spin_up': -0.0088,\n",
       "       'N_el_spin_dn': 5.63371259,\n",
       "       'N_el_spin_up': 5.63371137},\n",
       "      'm_spin': {'d': 0.0, 'f': 0.0, 'p': 0.0, 's': 0.0, 'non-spherical': 0.0},\n",
       "      'spin_dn': {'d': 0.0031,\n",
       "       'f': -0.0001,\n",
       "       'p': 0.0058,\n",
       "       's': 0.0,\n",
       "       'non-spherical': 0.0},\n",
       "      'spin_up': {'d': -0.0031,\n",
       "       'f': 0.0001,\n",
       "       'p': -0.0058,\n",
       "       's': 0.0,\n",
       "       'non-spherical': 0.0},\n",
       "      'N_el_spin_dn': {'d': 4.63612328,\n",
       "       'f': 0.14538502,\n",
       "       'p': 1.05396609,\n",
       "       's': 0.29981176,\n",
       "       'non-spherical': -0.50157355},\n",
       "      'N_el_spin_up': {'d': 4.63612205,\n",
       "       'f': 0.14538469,\n",
       "       'p': 1.05396599,\n",
       "       's': 0.29981127,\n",
       "       'non-spherical': -0.50157263}}}}}},\n",
       " 'charge_neutrality_in_e': [0.842097, 0.054145, 0.286912],\n",
       " 'rms_minus_all_iterations': [1.6814e-08, 1.5763e-08, 6.4036e-08],\n",
       " 'total_magn_moment_in_unit_cell': [0.0, 0.0, -2e-06]}"
      ]
     },
     "execution_count": 13,
     "metadata": {},
     "output_type": "execute_result"
    }
   ],
   "source": [
    "kkr_output = kkr_calc.outputs.output_parameters.get_dict()\n",
    "kkr_output"
   ]
  },
  {
   "cell_type": "code",
   "execution_count": 14,
   "id": "ae45e9be-10a4-4c93-a46a-b0e1b0c15586",
   "metadata": {},
   "outputs": [
    {
     "name": "stdout",
     "output_type": "stream",
     "text": [
      "charge neutrality:  [0.842097, 0.054145, 0.286912] rms:  [0.29204, 0.25368, 0.18443]\n"
     ]
    }
   ],
   "source": [
    "#check rms error and charge neutrality\n",
    "print(\"charge neutrality: \", kkr_output[\"charge_neutrality_in_e\"],\\\n",
    "      \"rms: \",kkr_output['rms_all_iterations'])"
   ]
  },
  {
   "cell_type": "code",
   "execution_count": null,
   "id": "71c87dde-2bb3-4992-b3aa-c356d8a7a9b8",
   "metadata": {},
   "outputs": [],
   "source": []
  }
 ],
 "metadata": {
  "kernelspec": {
   "display_name": "AiiDA",
   "language": "python",
   "name": "aiida"
  },
  "language_info": {
   "codemirror_mode": {
    "name": "ipython",
    "version": 3
   },
   "file_extension": ".py",
   "mimetype": "text/x-python",
   "name": "python",
   "nbconvert_exporter": "python",
   "pygments_lexer": "ipython3",
   "version": "3.8.10"
  }
 },
 "nbformat": 4,
 "nbformat_minor": 5
}
